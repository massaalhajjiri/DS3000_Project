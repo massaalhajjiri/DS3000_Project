{
  "nbformat": 4,
  "nbformat_minor": 0,
  "metadata": {
    "colab": {
      "provenance": []
    },
    "kernelspec": {
      "name": "python3",
      "display_name": "Python 3"
    },
    "language_info": {
      "name": "python"
    }
  },
  "cells": [
    {
      "cell_type": "markdown",
      "source": [
        "# Phase II: Data Curation, Exploratory Analysis and Plotting (5\\%)\n",
        "\n",
        "### Team Members:\n",
        "- Rohita Nookala\n",
        "- Mihika Chalasani\n",
        "- Noura Alami\n",
        "- Massa Alhajjiri\n"
      ],
      "metadata": {
        "id": "dRW6knkP1HPH"
      }
    },
    {
      "cell_type": "markdown",
      "source": [
        "## Part 1:\n",
        "(1%) Expresses the central motivation of the project and explains the (at least) two key questions to be explored. Gives a summary of the data processing pipeline so a technical expert can easily follow along."
      ],
      "metadata": {
        "id": "cBWeTB0P1K7a"
      }
    },
    {
      "cell_type": "markdown",
      "source": [
        "## Problem Motivation\n",
        "The film industry is one of the most influential and competitive sectors of the entertainment industry, with thousands of movies released per year. However, only a few movies are able to reach a certain level of popularity and success. By understanding what makes a movie popular and successful, studios and filmmakers can make more informed creative and marketing decisions.\n",
        "\n",
        "We're analazying data obtained through the TMBI API, which provides detailed movie information, such as, rating, budget, popularity scores, and genres. By analyzing these different factors, it can show us patterns that explain why some movies do better than others. This analysis will focus on identifying which characteristics are most correlated with popularity and exploring how factors like genre and release date contribute to audience engagement. Additionally, we plan to build a simple predictive model to estimate a movie's popularity score based on key features. This could help highlight what kind of films are most likely to succeed in today's entertainment industry.\n",
        "\n"
      ],
      "metadata": {
        "id": "2QLW57xT1NLI"
      }
    },
    {
      "cell_type": "markdown",
      "source": [
        "##Key Questions\n",
        "\n",
        "1) Which features, such as genre, budget, or runtime,  have the strongest correlation with movie popularity?\n",
        "\n",
        "2) Do certain genres tend to be more popular than others?\n",
        "\n",
        "3) Can we predict a movie’s popularity based on these features?\n",
        "\n",
        "Sources:\n",
        "\n",
        "TMBI API. “The Movie Database API Documentation.” https://www.themoviedb.org/documentation/api\n"
      ],
      "metadata": {
        "id": "euFVLAue5bw0"
      }
    },
    {
      "cell_type": "markdown",
      "source": [
        "# Summary of the Data Processing Pipeline\n",
        "\n",
        "1. Load movie data from the TMDB API\n",
        "2. Clean and prepare the dataset for analysis\n",
        "3. Build new variables to extract meaningful patterns\n",
        "4. Visualize relationships using Seaborn, Matplotlib, and Plotly\n",
        "\n",
        "To process the data, we'll start by pulling the movie information from TMDB API. This gives us variables like budget, runtime, genre, ratings, release data, and popularity scores. The cleaning process involves dealing with missing values in key columns, removing duplicate entries, and cutting out movies that do not meet the variable requirements. We'll also standardize the formatting of the data, an example of this would be using DateTime format for release dates and making sure all variables are typed out correctly.\n",
        "\n",
        "Next, we'll modify and expand our dataset to answer our key questions. We'll extract the release year from dates to analyze trends over time. We might also calculate new metrics like budget-to-rating ratios to see if more spending actually does lead to more popularity.\n",
        "\n",
        "Once the data is cleaned, we'll do exploratory analysis to find patterns. This means building correlation matrices to see which features relate to success, creating distribution plots to understand the range of budgets and ratings, and breaking down statistics by genre and year.\n",
        "\n",
        "For visualization, we'll use different types of charts, such as scatter plots and box plots. Finally, we'll use the cleaned dataset for predictive regression techniques to estimate popularity scores based on the features that matter most. This should reveal which characteristics are the strongest predictors of movie success."
      ],
      "metadata": {
        "id": "oIpPC9_SN_zq"
      }
    },
    {
      "cell_type": "code",
      "source": [],
      "metadata": {
        "id": "nA4nPO-v3mi-"
      },
      "execution_count": null,
      "outputs": []
    }
  ]
}